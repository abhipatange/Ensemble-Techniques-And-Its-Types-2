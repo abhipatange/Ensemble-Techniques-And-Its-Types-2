{
 "cells": [
  {
   "cell_type": "code",
   "execution_count": null,
   "id": "b22571e2-f4b2-4f25-8452-433edb6db57e",
   "metadata": {},
   "outputs": [],
   "source": [
    "Q1. How does bagging reduce overfitting in decision trees?"
   ]
  },
  {
   "cell_type": "code",
   "execution_count": null,
   "id": "529c15fe-dd1a-42e8-9650-4758dde4b46e",
   "metadata": {},
   "outputs": [],
   "source": [
    "ANS = \n",
    "    Bagging attempts to reduce the chance of overfitting complex models.\n",
    "    It trains a large number of “strong” learners in parallel. \n",
    "    A strong learner is a model thats relatively unconstrained.\n",
    "    Bagging then combines all the strong learners together in order to “smooth out” their predictions.\n",
    "    "
   ]
  },
  {
   "cell_type": "code",
   "execution_count": null,
   "id": "0cb6efd3-9288-4dbb-ab1f-4f058a6010e0",
   "metadata": {},
   "outputs": [],
   "source": []
  },
  {
   "cell_type": "code",
   "execution_count": null,
   "id": "38630151-662c-4712-aaab-b246e6632bc7",
   "metadata": {},
   "outputs": [],
   "source": [
    "Q2. What are the advantages and disadvantages of using different types of base learners in bagging?"
   ]
  },
  {
   "cell_type": "code",
   "execution_count": null,
   "id": "ae03c85c-9bbe-4cab-860e-e7896f5689d8",
   "metadata": {},
   "outputs": [],
   "source": [
    "ANS =\n",
    "     Bagging offers the advantage of allowing many weak learners to combine efforts to outdo a single strong learner.\n",
    "      It also helps in the reduction of variance, hence eliminating the overfitting of models in the procedure. \n",
    "        One disadvantage of bagging is that it introduces a loss of interpretability of a model.\n",
    "        "
   ]
  },
  {
   "cell_type": "code",
   "execution_count": null,
   "id": "9c8b3a30-9a22-4289-9627-c46d66e4aaa3",
   "metadata": {},
   "outputs": [],
   "source": []
  },
  {
   "cell_type": "code",
   "execution_count": null,
   "id": "9e7f1340-7e02-4052-b503-5c5031bb8410",
   "metadata": {},
   "outputs": [],
   "source": [
    "Q3. How does the choice of base learner affect the bias-variance tradeoff in bagging?"
   ]
  },
  {
   "cell_type": "code",
   "execution_count": null,
   "id": "2cf1e594-0568-4d06-98a8-e0cb3f6332b2",
   "metadata": {},
   "outputs": [],
   "source": [
    "ANS = \n",
    "    Bagging performs well on high variance models like decision trees.\n",
    "    On lower variance models such as linear regression, it is not expected to affect the learning process.\n",
    "     as per an experiment documented in this article, the accuracy reduces when bagging is\n",
    "    carried out on models with high bias."
   ]
  },
  {
   "cell_type": "code",
   "execution_count": null,
   "id": "156a5b6c-3cec-4c1e-91f6-b04b4f3d0c31",
   "metadata": {},
   "outputs": [],
   "source": []
  },
  {
   "cell_type": "code",
   "execution_count": null,
   "id": "b2d95ebb-8016-4628-935d-af020b30675a",
   "metadata": {},
   "outputs": [],
   "source": [
    "Q4. Can bagging be used for both classification and regression tasks? How does it differ in each case?"
   ]
  },
  {
   "cell_type": "code",
   "execution_count": null,
   "id": "863f9edc-f4f4-4df9-985d-f842c49faf8d",
   "metadata": {},
   "outputs": [],
   "source": [
    "ANS = \n",
    "     It is used to deal with bias-variance trade-offs and reduces the variance of a prediction model. \n",
    "     Bagging avoids overfitting of data and is used for both regression and classification models,\n",
    "        specifically for decision tree algorithms.\n",
    "        \n",
    "    Similar to decision tree and random forest, support vector machine can be used\n",
    "    in both classification and regression, SVC is for classification problem."
   ]
  },
  {
   "cell_type": "code",
   "execution_count": null,
   "id": "61e955cc-e420-4d87-acb4-f4ce150e9691",
   "metadata": {},
   "outputs": [],
   "source": []
  },
  {
   "cell_type": "code",
   "execution_count": null,
   "id": "1ce9ff76-3ef5-4ae3-b1ca-4cc478b9913c",
   "metadata": {},
   "outputs": [],
   "source": [
    "Q5. What is the role of ensemble size in bagging? How many models should be included in the ensemble?"
   ]
  },
  {
   "cell_type": "code",
   "execution_count": null,
   "id": "413e54b8-03dc-4d75-acb6-5abd0a795217",
   "metadata": {},
   "outputs": [],
   "source": [
    "ANS = \n",
    "    In parallel methods we fit the different considered learners independently from each others and,\n",
    "    so, it is possible to train them concurrently.\n",
    "    The most famous such approach is “bagging” that aims at producing an ensemble model\n",
    "    that is more robust than the individual models composing it.\n",
    "    \n",
    "    Large ensembles are called that because they have larger groups of musicians.\n",
    "    They can range from ten to thousands of players. \n",
    "    Chamber Orchestra—Chamber music is a type of classical music, and a chamber orchestra \n",
    "    refers to the 40 or fewer musicians that commonly play the compositions."
   ]
  },
  {
   "cell_type": "code",
   "execution_count": null,
   "id": "f40627ed-5b2d-444d-a5aa-b36e3b51a65e",
   "metadata": {},
   "outputs": [],
   "source": []
  },
  {
   "cell_type": "code",
   "execution_count": null,
   "id": "cbc5c53a-a957-4aa6-87b5-e4fafd63d286",
   "metadata": {},
   "outputs": [],
   "source": [
    "Q6. Can you provide an example of a real-world application of bagging in machine learning?"
   ]
  },
  {
   "cell_type": "code",
   "execution_count": null,
   "id": "18beebfe-66bd-4e2f-9717-e1b4d69477da",
   "metadata": {},
   "outputs": [],
   "source": [
    "ANS = \n",
    "    The Random Forest model uses Bagging, where decision tree models with higher variance are present. \n",
    "    It makes random feature selection to grow trees.\n",
    "    Several random trees make a Random Forest.\n",
    "    \n",
    "    Example\n",
    "    To improve the models accuracy and stability, the data scientist uses bagging.\n",
    "    First, the data set is divided into subsets with 1,000 customers. \n",
    "    Then, 25 features are randomly selected for each subset, and a\n",
    "    decision tree is trained on that subset using only those 25 features."
   ]
  },
  {
   "cell_type": "code",
   "execution_count": null,
   "id": "96d8fce3-9072-47b1-9178-df1e3fbfae86",
   "metadata": {},
   "outputs": [],
   "source": []
  },
  {
   "cell_type": "code",
   "execution_count": null,
   "id": "0a612dac-3f62-418c-af4e-51a292c3d4dd",
   "metadata": {},
   "outputs": [],
   "source": []
  },
  {
   "cell_type": "code",
   "execution_count": null,
   "id": "d2ddff81-0a0a-4270-a0c5-005e734549e5",
   "metadata": {},
   "outputs": [],
   "source": []
  },
  {
   "cell_type": "code",
   "execution_count": null,
   "id": "d4a9da77-149f-4911-983d-b150d364716f",
   "metadata": {},
   "outputs": [],
   "source": []
  }
 ],
 "metadata": {
  "kernelspec": {
   "display_name": "Python 3 (ipykernel)",
   "language": "python",
   "name": "python3"
  },
  "language_info": {
   "codemirror_mode": {
    "name": "ipython",
    "version": 3
   },
   "file_extension": ".py",
   "mimetype": "text/x-python",
   "name": "python",
   "nbconvert_exporter": "python",
   "pygments_lexer": "ipython3",
   "version": "3.10.8"
  }
 },
 "nbformat": 4,
 "nbformat_minor": 5
}
